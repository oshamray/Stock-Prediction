{
  "nbformat": 4,
  "nbformat_minor": 0,
  "metadata": {
    "colab": {
      "name": "StockPredict.ipynb",
      "provenance": [],
      "collapsed_sections": []
    },
    "kernelspec": {
      "name": "python3",
      "display_name": "Python 3"
    }
  },
  "cells": [
    {
      "cell_type": "code",
      "metadata": {
        "id": "cL1p_yye1xij"
      },
      "source": [
        "# import lib\n",
        "import math\n",
        "import pandas_datareader as web\n",
        "import numpy as np\n",
        "import pandas as pd\n",
        "from sklearn.preprocessing import MinMaxScaler\n",
        "from keras.models import Sequential\n",
        "from keras.layers import Dense, LSTM\n",
        "import matplotlib.pyplot as plt\n",
        "plt.style.use('fivethirtyeight')"
      ],
      "execution_count": 1,
      "outputs": []
    },
    {
      "cell_type": "code",
      "metadata": {
        "id": "jcYKlzBKOpuR",
        "outputId": "4f5fd632-0134-4647-aecf-c8da02c43f49",
        "colab": {
          "base_uri": "https://localhost:8080/",
          "height": 402
        }
      },
      "source": [
        "#Get the stock quote\n",
        "df = web.DataReader('INTC', data_source='yahoo', start='2012-01-01',end='2020-01-01')\n",
        "df.reset_index(drop=True, inplace=True)\n",
        "df"
      ],
      "execution_count": 2,
      "outputs": [
        {
          "output_type": "execute_result",
          "data": {
            "text/html": [
              "<div>\n",
              "<style scoped>\n",
              "    .dataframe tbody tr th:only-of-type {\n",
              "        vertical-align: middle;\n",
              "    }\n",
              "\n",
              "    .dataframe tbody tr th {\n",
              "        vertical-align: top;\n",
              "    }\n",
              "\n",
              "    .dataframe thead th {\n",
              "        text-align: right;\n",
              "    }\n",
              "</style>\n",
              "<table border=\"1\" class=\"dataframe\">\n",
              "  <thead>\n",
              "    <tr style=\"text-align: right;\">\n",
              "      <th></th>\n",
              "      <th>High</th>\n",
              "      <th>Low</th>\n",
              "      <th>Open</th>\n",
              "      <th>Close</th>\n",
              "      <th>Volume</th>\n",
              "      <th>Adj Close</th>\n",
              "    </tr>\n",
              "  </thead>\n",
              "  <tbody>\n",
              "    <tr>\n",
              "      <th>0</th>\n",
              "      <td>24.889999</td>\n",
              "      <td>24.389999</td>\n",
              "      <td>24.620001</td>\n",
              "      <td>24.540001</td>\n",
              "      <td>44845600.0</td>\n",
              "      <td>18.896772</td>\n",
              "    </tr>\n",
              "    <tr>\n",
              "      <th>1</th>\n",
              "      <td>25.129999</td>\n",
              "      <td>24.530001</td>\n",
              "      <td>24.570000</td>\n",
              "      <td>25.110001</td>\n",
              "      <td>47504000.0</td>\n",
              "      <td>19.335699</td>\n",
              "    </tr>\n",
              "    <tr>\n",
              "      <th>2</th>\n",
              "      <td>25.450001</td>\n",
              "      <td>24.980000</td>\n",
              "      <td>25.059999</td>\n",
              "      <td>25.400000</td>\n",
              "      <td>49490600.0</td>\n",
              "      <td>19.559006</td>\n",
              "    </tr>\n",
              "    <tr>\n",
              "      <th>3</th>\n",
              "      <td>25.400000</td>\n",
              "      <td>25.010000</td>\n",
              "      <td>25.209999</td>\n",
              "      <td>25.250000</td>\n",
              "      <td>36343500.0</td>\n",
              "      <td>19.443497</td>\n",
              "    </tr>\n",
              "    <tr>\n",
              "      <th>4</th>\n",
              "      <td>25.559999</td>\n",
              "      <td>25.219999</td>\n",
              "      <td>25.400000</td>\n",
              "      <td>25.469999</td>\n",
              "      <td>47478600.0</td>\n",
              "      <td>19.612911</td>\n",
              "    </tr>\n",
              "    <tr>\n",
              "      <th>...</th>\n",
              "      <td>...</td>\n",
              "      <td>...</td>\n",
              "      <td>...</td>\n",
              "      <td>...</td>\n",
              "      <td>...</td>\n",
              "      <td>...</td>\n",
              "    </tr>\n",
              "    <tr>\n",
              "      <th>2007</th>\n",
              "      <td>59.480000</td>\n",
              "      <td>59.160000</td>\n",
              "      <td>59.250000</td>\n",
              "      <td>59.410000</td>\n",
              "      <td>6313200.0</td>\n",
              "      <td>58.390232</td>\n",
              "    </tr>\n",
              "    <tr>\n",
              "      <th>2008</th>\n",
              "      <td>59.849998</td>\n",
              "      <td>59.349998</td>\n",
              "      <td>59.410000</td>\n",
              "      <td>59.820000</td>\n",
              "      <td>11480300.0</td>\n",
              "      <td>58.793194</td>\n",
              "    </tr>\n",
              "    <tr>\n",
              "      <th>2009</th>\n",
              "      <td>60.480000</td>\n",
              "      <td>59.900002</td>\n",
              "      <td>59.910000</td>\n",
              "      <td>60.080002</td>\n",
              "      <td>14085800.0</td>\n",
              "      <td>59.048733</td>\n",
              "    </tr>\n",
              "    <tr>\n",
              "      <th>2010</th>\n",
              "      <td>60.049999</td>\n",
              "      <td>59.380001</td>\n",
              "      <td>59.990002</td>\n",
              "      <td>59.619999</td>\n",
              "      <td>12750500.0</td>\n",
              "      <td>58.596626</td>\n",
              "    </tr>\n",
              "    <tr>\n",
              "      <th>2011</th>\n",
              "      <td>59.930000</td>\n",
              "      <td>59.360001</td>\n",
              "      <td>59.619999</td>\n",
              "      <td>59.849998</td>\n",
              "      <td>14432900.0</td>\n",
              "      <td>58.822678</td>\n",
              "    </tr>\n",
              "  </tbody>\n",
              "</table>\n",
              "<p>2012 rows × 6 columns</p>\n",
              "</div>"
            ],
            "text/plain": [
              "           High        Low       Open      Close      Volume  Adj Close\n",
              "0     24.889999  24.389999  24.620001  24.540001  44845600.0  18.896772\n",
              "1     25.129999  24.530001  24.570000  25.110001  47504000.0  19.335699\n",
              "2     25.450001  24.980000  25.059999  25.400000  49490600.0  19.559006\n",
              "3     25.400000  25.010000  25.209999  25.250000  36343500.0  19.443497\n",
              "4     25.559999  25.219999  25.400000  25.469999  47478600.0  19.612911\n",
              "...         ...        ...        ...        ...         ...        ...\n",
              "2007  59.480000  59.160000  59.250000  59.410000   6313200.0  58.390232\n",
              "2008  59.849998  59.349998  59.410000  59.820000  11480300.0  58.793194\n",
              "2009  60.480000  59.900002  59.910000  60.080002  14085800.0  59.048733\n",
              "2010  60.049999  59.380001  59.990002  59.619999  12750500.0  58.596626\n",
              "2011  59.930000  59.360001  59.619999  59.849998  14432900.0  58.822678\n",
              "\n",
              "[2012 rows x 6 columns]"
            ]
          },
          "metadata": {
            "tags": []
          },
          "execution_count": 2
        }
      ]
    },
    {
      "cell_type": "code",
      "metadata": {
        "id": "-OrP4uivPtBT",
        "outputId": "2238336e-661d-4f25-84ae-058055b75f4a",
        "colab": {
          "base_uri": "https://localhost:8080/",
          "height": 34
        }
      },
      "source": [
        "#get the data of the row and columns in the data set\n",
        "df.shape"
      ],
      "execution_count": 3,
      "outputs": [
        {
          "output_type": "execute_result",
          "data": {
            "text/plain": [
              "(2012, 6)"
            ]
          },
          "metadata": {
            "tags": []
          },
          "execution_count": 3
        }
      ]
    },
    {
      "cell_type": "code",
      "metadata": {
        "id": "Cgj3aZd7Pyzv",
        "outputId": "97181cb7-efb8-427e-8dea-f95a3281c747",
        "colab": {
          "base_uri": "https://localhost:8080/",
          "height": 518
        }
      },
      "source": [
        "#plotting the Closing price history\n",
        "plt.figure(figsize=(16,8))\n",
        "plt.title('Close Price History')\n",
        "plt.plot(df['Close'])\n",
        "plt.xlabel('Date', fontsize=18)\n",
        "plt.ylabel('Close Price USD', fontsize=18)\n",
        "plt.show()"
      ],
      "execution_count": 4,
      "outputs": [
        {
          "output_type": "display_data",
          "data": {
            "image/png": "[encoded data removed]",
            "text/plain": [
              "<Figure size 1152x576 with 1 Axes>"
            ]
          },
          "metadata": {
            "tags": [],
            "needs_background": "light"
          }
        }
      ]
    },
    {
      "cell_type": "code",
      "metadata": {
        "id": "YEf-hVOlQzm8",
        "outputId": "ea52d812-67e7-47fc-b5c6-6b044de27e40",
        "colab": {
          "base_uri": "https://localhost:8080/",
          "height": 34
        }
      },
      "source": [
        "#create dataframe only with \"Close\" column\n",
        "data = df.filter(['Close'])\n",
        "#convert data to the numpy\n",
        "dataset = data.values\n",
        "#Get the number of rows to train the model 0.8\n",
        "training_data_len = math.ceil(len (dataset) * .8)\n",
        "training_data_len"
      ],
      "execution_count": 5,
      "outputs": [
        {
          "output_type": "execute_result",
          "data": {
            "text/plain": [
              "1610"
            ]
          },
          "metadata": {
            "tags": []
          },
          "execution_count": 5
        }
      ]
    },
    {
      "cell_type": "code",
      "metadata": {
        "id": "Tv9kX5jLRq00",
        "outputId": "68296479-9302-4da7-b65f-e57bcd48b3b2",
        "colab": {
          "base_uri": "https://localhost:8080/",
          "height": 134
        }
      },
      "source": [
        "#Scale the data\n",
        "scaler = MinMaxScaler(feature_range=(0,1))\n",
        "scaled_data = scaler.fit_transform(dataset)\n",
        "\n",
        "scaled_data"
      ],
      "execution_count": 6,
      "outputs": [
        {
          "output_type": "execute_result",
          "data": {
            "text/plain": [
              "array([[0.12721022],\n",
              "       [0.14120825],\n",
              "       [0.14833003],\n",
              "       ...,\n",
              "       [1.        ],\n",
              "       [0.98870327],\n",
              "       [0.99435159]])"
            ]
          },
          "metadata": {
            "tags": []
          },
          "execution_count": 6
        }
      ]
    },
    {
      "cell_type": "code",
      "metadata": {
        "id": "KHnZPii8SJlc",
        "outputId": "ebcd19f5-ddc5-4902-87e0-e9b7b0035855",
        "colab": {
          "base_uri": "https://localhost:8080/",
          "height": 672
        }
      },
      "source": [
        "#Create the training data set\n",
        "#Create the scaled training data set\n",
        "train_data = scaled_data[0:training_data_len, :]\n",
        "#Split data into x_train and y_train data sets\n",
        "x_train = []\n",
        "y_train = []\n",
        "\n",
        "for i in range(60, len(train_data)):\n",
        "  x_train.append(train_data[i-60:i, 0])\n",
        "  y_train.append(train_data[i, 0])\n",
        "  if i<= 61:\n",
        "    print(x_train)\n",
        "    print(y_train)\n",
        "    print()\n"
      ],
      "execution_count": 19,
      "outputs": [
        {
          "output_type": "stream",
          "text": [
            "[array([0.12721022, 0.14120825, 0.14833003, 0.14464635, 0.15004908,\n",
            "       0.15299605, 0.1581532 , 0.15692532, 0.14194496, 0.1394892 ,\n",
            "       0.14808444, 0.15397835, 0.17239682, 0.18050094, 0.18516696,\n",
            "       0.18516696, 0.18148328, 0.18099211, 0.18123769, 0.17337916,\n",
            "       0.17657167, 0.17509821, 0.18123769, 0.18074652, 0.17878189,\n",
            "       0.18393909, 0.18418467, 0.1802554 , 0.1802554 , 0.18222004,\n",
            "       0.17730843, 0.18344791, 0.19670923, 0.19155204, 0.18099211,\n",
            "       0.17927306, 0.1802554 , 0.18492138, 0.19351667, 0.18467579,\n",
            "       0.18418467, 0.18565813, 0.17632613, 0.17804518, 0.18541255,\n",
            "       0.1836935 , 0.18934182, 0.18737718, 0.19965616, 0.19891941,\n",
            "       0.20604124, 0.20555007, 0.20579565, 0.20604124, 0.20677799,\n",
            "       0.20972492, 0.20923375, 0.21684675, 0.21684675, 0.20726912])]\n",
            "[0.21610999443159135]\n",
            "\n",
            "[array([0.12721022, 0.14120825, 0.14833003, 0.14464635, 0.15004908,\n",
            "       0.15299605, 0.1581532 , 0.15692532, 0.14194496, 0.1394892 ,\n",
            "       0.14808444, 0.15397835, 0.17239682, 0.18050094, 0.18516696,\n",
            "       0.18516696, 0.18148328, 0.18099211, 0.18123769, 0.17337916,\n",
            "       0.17657167, 0.17509821, 0.18123769, 0.18074652, 0.17878189,\n",
            "       0.18393909, 0.18418467, 0.1802554 , 0.1802554 , 0.18222004,\n",
            "       0.17730843, 0.18344791, 0.19670923, 0.19155204, 0.18099211,\n",
            "       0.17927306, 0.1802554 , 0.18492138, 0.19351667, 0.18467579,\n",
            "       0.18418467, 0.18565813, 0.17632613, 0.17804518, 0.18541255,\n",
            "       0.1836935 , 0.18934182, 0.18737718, 0.19965616, 0.19891941,\n",
            "       0.20604124, 0.20555007, 0.20579565, 0.20604124, 0.20677799,\n",
            "       0.20972492, 0.20923375, 0.21684675, 0.21684675, 0.20726912]), array([0.14120825, 0.14833003, 0.14464635, 0.15004908, 0.15299605,\n",
            "       0.1581532 , 0.15692532, 0.14194496, 0.1394892 , 0.14808444,\n",
            "       0.15397835, 0.17239682, 0.18050094, 0.18516696, 0.18516696,\n",
            "       0.18148328, 0.18099211, 0.18123769, 0.17337916, 0.17657167,\n",
            "       0.17509821, 0.18123769, 0.18074652, 0.17878189, 0.18393909,\n",
            "       0.18418467, 0.1802554 , 0.1802554 , 0.18222004, 0.17730843,\n",
            "       0.18344791, 0.19670923, 0.19155204, 0.18099211, 0.17927306,\n",
            "       0.1802554 , 0.18492138, 0.19351667, 0.18467579, 0.18418467,\n",
            "       0.18565813, 0.17632613, 0.17804518, 0.18541255, 0.1836935 ,\n",
            "       0.18934182, 0.18737718, 0.19965616, 0.19891941, 0.20604124,\n",
            "       0.20555007, 0.20579565, 0.20604124, 0.20677799, 0.20972492,\n",
            "       0.20923375, 0.21684675, 0.21684675, 0.20726912, 0.21610999])]\n",
            "[0.21610999443159135, 0.21512770054702307]\n",
            "\n"
          ],
          "name": "stdout"
        }
      ]
    },
    {
      "cell_type": "code",
      "metadata": {
        "id": "f5FT33DUT8Vf"
      },
      "source": [
        "#Convering to nupmy arrays\n",
        "x_train, y_train  = np.array(x_train), np.array(y_train)\n"
      ],
      "execution_count": 20,
      "outputs": []
    },
    {
      "cell_type": "code",
      "metadata": {
        "id": "d1WbzGbvUOKx",
        "outputId": "0df58b02-6a8a-48e6-a8fc-5412b1c2ddec",
        "colab": {
          "base_uri": "https://localhost:8080/",
          "height": 34
        }
      },
      "source": [
        "#Reshape the data\n",
        "x_train = np.reshape(x_train, (x_train.shape[0], x_train.shape[1], 1))\n",
        "x_train.shape"
      ],
      "execution_count": 21,
      "outputs": [
        {
          "output_type": "execute_result",
          "data": {
            "text/plain": [
              "(1550, 60, 1)"
            ]
          },
          "metadata": {
            "tags": []
          },
          "execution_count": 21
        }
      ]
    },
    {
      "cell_type": "code",
      "metadata": {
        "id": "VBnFpklPVHbq"
      },
      "source": [
        "#Build LSTM model\n",
        "model = Sequential()\n",
        "model.add(LSTM(50, return_sequences=True, input_shape = (x_train.shape[1], 1)))\n",
        "model.add(LSTM(50, return_sequences=False))\n",
        "model.add(Dense(25))\n",
        "model.add(Dense(1))"
      ],
      "execution_count": 22,
      "outputs": []
    },
    {
      "cell_type": "code",
      "metadata": {
        "id": "NUvMfHHnWjyy"
      },
      "source": [
        "#Compile the model\n",
        "model.compile(optimizer = 'adam', loss='mean_squared_error')"
      ],
      "execution_count": 23,
      "outputs": []
    },
    {
      "cell_type": "code",
      "metadata": {
        "id": "mvirpCkzXJPv",
        "outputId": "8471192c-f297-4849-b32e-9332e09f617b",
        "colab": {
          "base_uri": "https://localhost:8080/",
          "height": 50
        }
      },
      "source": [
        "#train the model\n",
        "model.fit(x_train,y_train,batch_size=1,epochs=1)"
      ],
      "execution_count": 24,
      "outputs": [
        {
          "output_type": "stream",
          "text": [
            "1550/1550 [==============================] - 34s 22ms/step - loss: 0.0017\n"
          ],
          "name": "stdout"
        },
        {
          "output_type": "execute_result",
          "data": {
            "text/plain": [
              "<tensorflow.python.keras.callbacks.History at 0x7f377bdc26d8>"
            ]
          },
          "metadata": {
            "tags": []
          },
          "execution_count": 24
        }
      ]
    },
    {
      "cell_type": "code",
      "metadata": {
        "id": "pSd9xMMYYCFg"
      },
      "source": [
        "#Creating the training data set\n",
        "test_data = scaled_data[training_data_len - 60: , :]\n",
        "#create the data sets x_test and y_test\n",
        "x_test = []\n",
        "y_test = dataset[training_data_len:, :]\n",
        "for i in range(60, len(test_data)):\n",
        "  x_test.append(test_data[i-60:i, 0])\n"
      ],
      "execution_count": 25,
      "outputs": []
    },
    {
      "cell_type": "code",
      "metadata": {
        "id": "TCBNM-HiZFu5",
        "outputId": "72081b2e-37fd-4e08-ac8d-eca266550f40",
        "colab": {
          "base_uri": "https://localhost:8080/",
          "height": 235
        }
      },
      "source": [
        "#Convert data to numpy array\n",
        "x_test = np.array(x_test)\n",
        "x_test"
      ],
      "execution_count": 26,
      "outputs": [
        {
          "output_type": "execute_result",
          "data": {
            "text/plain": [
              "array([[0.72740663, 0.74631627, 0.76989188, ..., 0.88040269, 0.86910605,\n",
              "        0.88605101],\n",
              "       [0.74631627, 0.76989188, 0.78487225, ..., 0.86910605, 0.88605101,\n",
              "        0.88310408],\n",
              "       [0.76989188, 0.78487225, 0.77062869, ..., 0.88605101, 0.88310408,\n",
              "        0.89194496],\n",
              "       ...,\n",
              "       [0.73747539, 0.75319247, 0.77504903, ..., 0.97912568, 0.98354612,\n",
              "        0.99361488],\n",
              "       [0.75319247, 0.77504903, 0.76768166, ..., 0.98354612, 0.99361488,\n",
              "        1.        ],\n",
              "       [0.77504903, 0.76768166, 0.7458251 , ..., 0.99361488, 1.        ,\n",
              "        0.98870327]])"
            ]
          },
          "metadata": {
            "tags": []
          },
          "execution_count": 26
        }
      ]
    },
    {
      "cell_type": "code",
      "metadata": {
        "id": "iDxF0K3TZz17",
        "outputId": "d98b7aa4-6b4a-4570-dd32-abab514b81bb",
        "colab": {
          "base_uri": "https://localhost:8080/",
          "height": 840
        }
      },
      "source": [
        "#Reshape the data\n",
        "x_test = np.reshape(x_test,(x_test.shape[0], x_test.shape[1], 1))\n",
        "x_test"
      ],
      "execution_count": 27,
      "outputs": [
        {
          "output_type": "execute_result",
          "data": {
            "text/plain": [
              "array([[[0.72740663],\n",
              "        [0.74631627],\n",
              "        [0.76989188],\n",
              "        ...,\n",
              "        [0.88040269],\n",
              "        [0.86910605],\n",
              "        [0.88605101]],\n",
              "\n",
              "       [[0.74631627],\n",
              "        [0.76989188],\n",
              "        [0.78487225],\n",
              "        ...,\n",
              "        [0.86910605],\n",
              "        [0.88605101],\n",
              "        [0.88310408]],\n",
              "\n",
              "       [[0.76989188],\n",
              "        [0.78487225],\n",
              "        [0.77062869],\n",
              "        ...,\n",
              "        [0.88605101],\n",
              "        [0.88310408],\n",
              "        [0.89194496]],\n",
              "\n",
              "       ...,\n",
              "\n",
              "       [[0.73747539],\n",
              "        [0.75319247],\n",
              "        [0.77504903],\n",
              "        ...,\n",
              "        [0.97912568],\n",
              "        [0.98354612],\n",
              "        [0.99361488]],\n",
              "\n",
              "       [[0.75319247],\n",
              "        [0.77504903],\n",
              "        [0.76768166],\n",
              "        ...,\n",
              "        [0.98354612],\n",
              "        [0.99361488],\n",
              "        [1.        ]],\n",
              "\n",
              "       [[0.77504903],\n",
              "        [0.76768166],\n",
              "        [0.7458251 ],\n",
              "        ...,\n",
              "        [0.99361488],\n",
              "        [1.        ],\n",
              "        [0.98870327]]])"
            ]
          },
          "metadata": {
            "tags": []
          },
          "execution_count": 27
        }
      ]
    },
    {
      "cell_type": "code",
      "metadata": {
        "id": "sinzFC65aN2p",
        "outputId": "9520aa0a-fa1a-4718-8099-c76469e3e8be",
        "colab": {
          "base_uri": "https://localhost:8080/",
          "height": 34
        }
      },
      "source": [
        "#Get the model pridicted price values\n",
        "predictions = model.predict(x_test)\n",
        "predictions = scaler.inverse_transform(predictions)\n",
        "predictions.shape"
      ],
      "execution_count": 28,
      "outputs": [
        {
          "output_type": "execute_result",
          "data": {
            "text/plain": [
              "(402, 1)"
            ]
          },
          "metadata": {
            "tags": []
          },
          "execution_count": 28
        }
      ]
    },
    {
      "cell_type": "code",
      "metadata": {
        "id": "6Af37kEparMr",
        "outputId": "5ae7e558-9602-4cd8-8c77-4c1a71d5a4fb",
        "colab": {
          "base_uri": "https://localhost:8080/",
          "height": 34
        }
      },
      "source": [
        "#Get the RMSE\n",
        "rmse=np.sqrt(np.mean(((predictions- y_test)**2)))\n",
        "rmse"
      ],
      "execution_count": 29,
      "outputs": [
        {
          "output_type": "execute_result",
          "data": {
            "text/plain": [
              "3.2452219075767994"
            ]
          },
          "metadata": {
            "tags": []
          },
          "execution_count": 29
        }
      ]
    },
    {
      "cell_type": "code",
      "metadata": {
        "id": "_rbqFF-xbSEZ",
        "outputId": "3b3a3a6f-bb65-4db0-99bb-c12ccf6204b5",
        "colab": {
          "base_uri": "https://localhost:8080/",
          "height": 619
        }
      },
      "source": [
        "#Plot the data\n",
        "train = data[:training_data_len]\n",
        "valid = data[training_data_len:]\n",
        "valid['Predictions'] = predictions\n",
        "\n",
        "plt.figure(figsize = (16,8))\n",
        "plt.title('Model')\n",
        "plt.xlabel('Date', fontsize=18)\n",
        "\n",
        "plt.ylabel('Cllose Price USD', fontsize = 18)\n",
        "plt.plot(train['Close'])\n",
        "plt.plot(valid[['Close', 'Predictions']])\n",
        "plt.legend(['Train', 'Val', 'Predictions'], loc = 'lower right')\n",
        "plt.show()"
      ],
      "execution_count": 30,
      "outputs": [
        {
          "output_type": "stream",
          "text": [
            "/usr/local/lib/python3.6/dist-packages/ipykernel_launcher.py:4: SettingWithCopyWarning: \n",
            "A value is trying to be set on a copy of a slice from a DataFrame.\n",
            "Try using .loc[row_indexer,col_indexer] = value instead\n",
            "\n",
            "See the caveats in the documentation: https://pandas.pydata.org/pandas-docs/stable/user_guide/indexing.html#returning-a-view-versus-a-copy\n",
            "  after removing the cwd from sys.path.\n"
          ],
          "name": "stderr"
        },
        {
          "output_type": "display_data",
          "data": {
            "image/png": "[encoded data removed]",
            "text/plain": [
              "<Figure size 1152x576 with 1 Axes>"
            ]
          },
          "metadata": {
            "tags": [],
            "needs_background": "light"
          }
        }
      ]
    },
    {
      "cell_type": "code",
      "metadata": {
        "id": "mlQQ7aRJd1AF",
        "outputId": "ee695286-b934-4ed5-c6ac-6d88a1149864",
        "colab": {
          "base_uri": "https://localhost:8080/",
          "height": 402
        }
      },
      "source": [
        "valid"
      ],
      "execution_count": 31,
      "outputs": [
        {
          "output_type": "execute_result",
          "data": {
            "text/html": [
              "<div>\n",
              "<style scoped>\n",
              "    .dataframe tbody tr th:only-of-type {\n",
              "        vertical-align: middle;\n",
              "    }\n",
              "\n",
              "    .dataframe tbody tr th {\n",
              "        vertical-align: top;\n",
              "    }\n",
              "\n",
              "    .dataframe thead th {\n",
              "        text-align: right;\n",
              "    }\n",
              "</style>\n",
              "<table border=\"1\" class=\"dataframe\">\n",
              "  <thead>\n",
              "    <tr style=\"text-align: right;\">\n",
              "      <th></th>\n",
              "      <th>Close</th>\n",
              "      <th>Predictions</th>\n",
              "    </tr>\n",
              "  </thead>\n",
              "  <tbody>\n",
              "    <tr>\n",
              "      <th>1610</th>\n",
              "      <td>55.320000</td>\n",
              "      <td>57.968750</td>\n",
              "    </tr>\n",
              "    <tr>\n",
              "      <th>1611</th>\n",
              "      <td>55.680000</td>\n",
              "      <td>58.133560</td>\n",
              "    </tr>\n",
              "    <tr>\n",
              "      <th>1612</th>\n",
              "      <td>55.200001</td>\n",
              "      <td>58.331703</td>\n",
              "    </tr>\n",
              "    <tr>\n",
              "      <th>1613</th>\n",
              "      <td>57.080002</td>\n",
              "      <td>58.443062</td>\n",
              "    </tr>\n",
              "    <tr>\n",
              "      <th>1614</th>\n",
              "      <td>56.830002</td>\n",
              "      <td>58.790085</td>\n",
              "    </tr>\n",
              "    <tr>\n",
              "      <th>...</th>\n",
              "      <td>...</td>\n",
              "      <td>...</td>\n",
              "    </tr>\n",
              "    <tr>\n",
              "      <th>2007</th>\n",
              "      <td>59.410000</td>\n",
              "      <td>61.493069</td>\n",
              "    </tr>\n",
              "    <tr>\n",
              "      <th>2008</th>\n",
              "      <td>59.820000</td>\n",
              "      <td>61.865955</td>\n",
              "    </tr>\n",
              "    <tr>\n",
              "      <th>2009</th>\n",
              "      <td>60.080002</td>\n",
              "      <td>62.258572</td>\n",
              "    </tr>\n",
              "    <tr>\n",
              "      <th>2010</th>\n",
              "      <td>59.619999</td>\n",
              "      <td>62.643353</td>\n",
              "    </tr>\n",
              "    <tr>\n",
              "      <th>2011</th>\n",
              "      <td>59.849998</td>\n",
              "      <td>62.899559</td>\n",
              "    </tr>\n",
              "  </tbody>\n",
              "</table>\n",
              "<p>402 rows × 2 columns</p>\n",
              "</div>"
            ],
            "text/plain": [
              "          Close  Predictions\n",
              "1610  55.320000    57.968750\n",
              "1611  55.680000    58.133560\n",
              "1612  55.200001    58.331703\n",
              "1613  57.080002    58.443062\n",
              "1614  56.830002    58.790085\n",
              "...         ...          ...\n",
              "2007  59.410000    61.493069\n",
              "2008  59.820000    61.865955\n",
              "2009  60.080002    62.258572\n",
              "2010  59.619999    62.643353\n",
              "2011  59.849998    62.899559\n",
              "\n",
              "[402 rows x 2 columns]"
            ]
          },
          "metadata": {
            "tags": []
          },
          "execution_count": 31
        }
      ]
    },
    {
      "cell_type": "code",
      "metadata": {
        "id": "mxIXEZ43g_8Q",
        "outputId": "5b6e783b-2779-4d42-99f5-bdae7b2c01cd",
        "colab": {
          "base_uri": "https://localhost:8080/",
          "height": 402
        }
      },
      "source": [
        "df"
      ],
      "execution_count": 32,
      "outputs": [
        {
          "output_type": "execute_result",
          "data": {
            "text/html": [
              "<div>\n",
              "<style scoped>\n",
              "    .dataframe tbody tr th:only-of-type {\n",
              "        vertical-align: middle;\n",
              "    }\n",
              "\n",
              "    .dataframe tbody tr th {\n",
              "        vertical-align: top;\n",
              "    }\n",
              "\n",
              "    .dataframe thead th {\n",
              "        text-align: right;\n",
              "    }\n",
              "</style>\n",
              "<table border=\"1\" class=\"dataframe\">\n",
              "  <thead>\n",
              "    <tr style=\"text-align: right;\">\n",
              "      <th></th>\n",
              "      <th>High</th>\n",
              "      <th>Low</th>\n",
              "      <th>Open</th>\n",
              "      <th>Close</th>\n",
              "      <th>Volume</th>\n",
              "      <th>Adj Close</th>\n",
              "    </tr>\n",
              "  </thead>\n",
              "  <tbody>\n",
              "    <tr>\n",
              "      <th>0</th>\n",
              "      <td>24.889999</td>\n",
              "      <td>24.389999</td>\n",
              "      <td>24.620001</td>\n",
              "      <td>24.540001</td>\n",
              "      <td>44845600.0</td>\n",
              "      <td>18.896772</td>\n",
              "    </tr>\n",
              "    <tr>\n",
              "      <th>1</th>\n",
              "      <td>25.129999</td>\n",
              "      <td>24.530001</td>\n",
              "      <td>24.570000</td>\n",
              "      <td>25.110001</td>\n",
              "      <td>47504000.0</td>\n",
              "      <td>19.335699</td>\n",
              "    </tr>\n",
              "    <tr>\n",
              "      <th>2</th>\n",
              "      <td>25.450001</td>\n",
              "      <td>24.980000</td>\n",
              "      <td>25.059999</td>\n",
              "      <td>25.400000</td>\n",
              "      <td>49490600.0</td>\n",
              "      <td>19.559006</td>\n",
              "    </tr>\n",
              "    <tr>\n",
              "      <th>3</th>\n",
              "      <td>25.400000</td>\n",
              "      <td>25.010000</td>\n",
              "      <td>25.209999</td>\n",
              "      <td>25.250000</td>\n",
              "      <td>36343500.0</td>\n",
              "      <td>19.443497</td>\n",
              "    </tr>\n",
              "    <tr>\n",
              "      <th>4</th>\n",
              "      <td>25.559999</td>\n",
              "      <td>25.219999</td>\n",
              "      <td>25.400000</td>\n",
              "      <td>25.469999</td>\n",
              "      <td>47478600.0</td>\n",
              "      <td>19.612911</td>\n",
              "    </tr>\n",
              "    <tr>\n",
              "      <th>...</th>\n",
              "      <td>...</td>\n",
              "      <td>...</td>\n",
              "      <td>...</td>\n",
              "      <td>...</td>\n",
              "      <td>...</td>\n",
              "      <td>...</td>\n",
              "    </tr>\n",
              "    <tr>\n",
              "      <th>2007</th>\n",
              "      <td>59.480000</td>\n",
              "      <td>59.160000</td>\n",
              "      <td>59.250000</td>\n",
              "      <td>59.410000</td>\n",
              "      <td>6313200.0</td>\n",
              "      <td>58.390232</td>\n",
              "    </tr>\n",
              "    <tr>\n",
              "      <th>2008</th>\n",
              "      <td>59.849998</td>\n",
              "      <td>59.349998</td>\n",
              "      <td>59.410000</td>\n",
              "      <td>59.820000</td>\n",
              "      <td>11480300.0</td>\n",
              "      <td>58.793194</td>\n",
              "    </tr>\n",
              "    <tr>\n",
              "      <th>2009</th>\n",
              "      <td>60.480000</td>\n",
              "      <td>59.900002</td>\n",
              "      <td>59.910000</td>\n",
              "      <td>60.080002</td>\n",
              "      <td>14085800.0</td>\n",
              "      <td>59.048733</td>\n",
              "    </tr>\n",
              "    <tr>\n",
              "      <th>2010</th>\n",
              "      <td>60.049999</td>\n",
              "      <td>59.380001</td>\n",
              "      <td>59.990002</td>\n",
              "      <td>59.619999</td>\n",
              "      <td>12750500.0</td>\n",
              "      <td>58.596626</td>\n",
              "    </tr>\n",
              "    <tr>\n",
              "      <th>2011</th>\n",
              "      <td>59.930000</td>\n",
              "      <td>59.360001</td>\n",
              "      <td>59.619999</td>\n",
              "      <td>59.849998</td>\n",
              "      <td>14432900.0</td>\n",
              "      <td>58.822678</td>\n",
              "    </tr>\n",
              "  </tbody>\n",
              "</table>\n",
              "<p>2012 rows × 6 columns</p>\n",
              "</div>"
            ],
            "text/plain": [
              "           High        Low       Open      Close      Volume  Adj Close\n",
              "0     24.889999  24.389999  24.620001  24.540001  44845600.0  18.896772\n",
              "1     25.129999  24.530001  24.570000  25.110001  47504000.0  19.335699\n",
              "2     25.450001  24.980000  25.059999  25.400000  49490600.0  19.559006\n",
              "3     25.400000  25.010000  25.209999  25.250000  36343500.0  19.443497\n",
              "4     25.559999  25.219999  25.400000  25.469999  47478600.0  19.612911\n",
              "...         ...        ...        ...        ...         ...        ...\n",
              "2007  59.480000  59.160000  59.250000  59.410000   6313200.0  58.390232\n",
              "2008  59.849998  59.349998  59.410000  59.820000  11480300.0  58.793194\n",
              "2009  60.480000  59.900002  59.910000  60.080002  14085800.0  59.048733\n",
              "2010  60.049999  59.380001  59.990002  59.619999  12750500.0  58.596626\n",
              "2011  59.930000  59.360001  59.619999  59.849998  14432900.0  58.822678\n",
              "\n",
              "[2012 rows x 6 columns]"
            ]
          },
          "metadata": {
            "tags": []
          },
          "execution_count": 32
        }
      ]
    },
    {
      "cell_type": "code",
      "metadata": {
        "id": "0WbamUfFkjee",
        "outputId": "2814a566-3e86-4788-b212-192fbe4849cb",
        "colab": {
          "base_uri": "https://localhost:8080/",
          "height": 269
        }
      },
      "source": [
        "#Get the quote\n",
        "intc_quote = web.DataReader('INTC', data_source='yahoo', start='2018-11-01',end='2020-05-12')\n",
        "#Create a new dataframe\n",
        "new_df = intc_quote.filter(['Close'])\n",
        "#Get teh last 60 day closing price \n",
        "last_60_days = new_df[-60:].values\n",
        "#Scale the data to be values between 0 and 1\n",
        "last_60_days_scaled = scaler.transform(last_60_days)\n",
        "#Create an empty list\n",
        "X_test = []\n",
        "#Append teh past 60 days\n",
        "X_test.append(last_60_days_scaled)\n",
        "#Convert the X_test data set to a numpy array\n",
        "X_test = np.array(X_test)\n",
        "#Reshape the data\n",
        "X_test = np.reshape(X_test, (X_test.shape[0], X_test.shape[1], 1))\n",
        "#Get the predicted scaled price\n",
        "pred_price = model.predict(X_test)\n",
        "#undo the scaling \n",
        "pred_price = scaler.inverse_transform(pred_price)\n",
        "print('%s and %s' %(pred_price, new_df))"
      ],
      "execution_count": 33,
      "outputs": [
        {
          "output_type": "stream",
          "text": [
            "[[62.684376]] and                 Close\n",
            "Date                 \n",
            "2018-11-01  48.220001\n",
            "2018-11-02  47.110001\n",
            "2018-11-05  47.970001\n",
            "2018-11-06  47.250000\n",
            "2018-11-07  48.720001\n",
            "...               ...\n",
            "2020-05-06  59.180000\n",
            "2020-05-07  59.169998\n",
            "2020-05-08  59.669998\n",
            "2020-05-11  60.130001\n",
            "2020-05-12  58.389999\n",
            "\n",
            "[383 rows x 1 columns]\n"
          ],
          "name": "stdout"
        }
      ]
    },
    {
      "cell_type": "code",
      "metadata": {
        "id": "69ok8cZwkv7e",
        "outputId": "9989c25e-345d-4e4f-eefb-635a5f02716e",
        "colab": {
          "base_uri": "https://localhost:8080/",
          "height": 67
        }
      },
      "source": [
        "#Get the quote\n",
        "intc_quote2 = web.DataReader('INTC', data_source='yahoo', start='2020-05-12',end='2020-05-12')\n",
        "print(intc_quote2['Close'])"
      ],
      "execution_count": 34,
      "outputs": [
        {
          "output_type": "stream",
          "text": [
            "Date\n",
            "2020-05-12    58.389999\n",
            "Name: Close, dtype: float64\n"
          ],
          "name": "stdout"
        }
      ]
    }
  ]
}